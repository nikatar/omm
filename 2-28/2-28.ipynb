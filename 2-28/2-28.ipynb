{
 "cells": [
  {
   "cell_type": "markdown",
   "metadata": {},
   "source": [
    "# Условие задачи\n",
    "\n",
    "Используя метод переменных направлений, решить краевую задачу для неоднородного уравнения теплопроводности в прямогоульной области:\n",
    "\n",
    "$$\\begin{cases}\n",
    "\\frac{\\partial u}{\\partial t} = \\Delta u + e^{-t} \\cos(x)\\cos(y) ,~~ 0<x<\\pi, ~~0<y<\\pi, ~~ t>0 \\\\\n",
    "\\frac{\\partial u}{\\partial x}\\vert _{x=0} = \\frac{\\partial u}{\\partial x}\\vert _{x=\\pi} = 0,\\\\\n",
    "\\frac{\\partial u}{\\partial y}\\vert _{y=0} = \\frac{\\partial u}{\\partial y}\\vert _{y=\\pi} = 0,\\\\\n",
    "u\\vert _{t=0} = \\cos(x)\\cos(y)\n",
    "\\end{cases}\n",
    "$$\n"
   ]
  },
  {
   "cell_type": "markdown",
   "metadata": {},
   "source": [
    "# Аналитическое решение\n",
    "Будем искать решение системы в виде:\n",
    "$$u=\\sum_{n,m=0}^\\infty A_{nm}T_{nm}(t)\\cos nx\\cos my.$$\n",
    "\n",
    "Из подстановки в начальное условие следует, что $A_{nm}=\\delta_{1n}\\delta_{1m},$ $T_{11}(0) = 1$ и решение принимает вид:\n",
    "\n",
    "$$u=T(t)\\cos (nx)\\cos (my),$$\n",
    "\n",
    "где $T(t) = T_{11}(t).$ \n",
    "\n",
    "Подставив последнее выражение в исходное уравнение, получим уравнение на $T(t):$\n",
    "\n",
    "$$T'(t)+2T(t)-e^{-t}=0,\\quad T(0) = 1.$$\n",
    "\n",
    "Данная задача Коши имеет решение $T(t) = e^{-t}.$\n",
    "\n",
    "Аналитическое решение системы будет иметь вид:\n",
    "\n",
    "$$u = e^{-t}\\cos x\\cos y.$$"
   ]
  },
  {
   "cell_type": "markdown",
   "metadata": {},
   "source": [
    "# Численное решение\n"
   ]
  },
  {
   "cell_type": "markdown",
   "metadata": {},
   "source": [
    "## Сетка\n",
    "\n",
    "Введем в расчетной области сетку, используя фиктивные узлы в окрестности границ, чтобы получить второй порядок аппроксимации для условий Неймана:\n",
    "\n",
    "$$\\begin{cases}\n",
    "x_0=-\\frac{h_x}{2};  x_n = x_0 + n h_x,  n = 0,1,..., N; x_N = \\pi + \\frac{h_x}{2} \\longrightarrow h_x = \\frac{\\pi}{N-1}\\\\\n",
    "y_0=-\\frac{h_y}{2};  y_m = y_0 + m h_y,  m = 0,1,..., M; x_M = \\pi + \\frac{h_y}{2} \\longrightarrow h_y = \\frac{\\pi}{M-1}\\\\\n",
    "t_j=j\\tau,j=0,1,...,J; t_J=T \\longrightarrow \\tau= \\frac{T}{J}\n",
    "\\end{cases}$$\n",
    "\n",
    "На данной сетке будем рассматривать\n",
    "сеточную функцию $w^{j}_{n,m} = u(x_n,y_m,t_j)$."
   ]
  },
  {
   "cell_type": "markdown",
   "metadata": {},
   "source": [
    "## Аппроксимации"
   ]
  },
  {
   "cell_type": "markdown",
   "metadata": {},
   "source": [
    "### Оператор Лапласа\n",
    "\n",
    "Аппроксимируем оператор Лапласа $\\Delta = \\frac{\\partial^2 }{{\\partial x}^2} + \\frac{\\partial^2 }{{\\partial y}^2}$\n",
    "разностным оператором $\\Lambda w = \\Lambda _x w + \\Lambda _y w$, где\n",
    "\n",
    "$$\\begin{aligned}\n",
    "\\Lambda _x w = \\frac{w_{n-1,m}-2w_{n,m}+w_{n+1,m}}{h_x^{2}}, \\\\\n",
    "\\Lambda _y w = \\frac{w_{n,m-1}-2w_{n,m}+w_{n,m+1}}{h_y^{2}}. \\\\\n",
    "\\end{aligned} $$\n",
    "\n",
    "Данная аппроксимация имеет второй порядок.\n",
    "\n",
    "    * Здесь и далее в соответствующих ситуациях для краткости верхний индекс j, соответствующий времени, может быть негласно опущен. Как и другие."
   ]
  },
  {
   "cell_type": "markdown",
   "metadata": {},
   "source": [
    "### Неоднородность\n",
    "\n",
    "$$f(x,y,t)=e^{-t} \\cos(x)\\cos(y) ~~~~~\\longrightarrow~~~~~~ f^{j}_{n,m} = e^{{-t}_j} \\cos(x_n) \\cos(y_m)$$\n",
    "\n",
    "$$f^{j}_{n,m} = e^{-\\tau ~j} ~\\cos(n h_x) ~\\cos(m h_y), ~~где ~~ n = 0,1, ...,N,~~ m=0,1,...,M,~~ j=0,1,...,J.$$\n",
    "\n",
    "Неоднородность аппроксимируется точно."
   ]
  },
  {
   "cell_type": "markdown",
   "metadata": {},
   "source": [
    "### Начальное условие\n",
    "$$ u\\vert _{t=0} = \\cos(x)\\cos(y) ~~~~~\\longrightarrow~~~~~ w^{0}_{n,m} = \\cos (x_n) \\cos (y_m) $$\n",
    "\n",
    "$$w^{0}_{n,m} = \\cos (-\\frac{h_x}{2} + n h_x) \\cos (-\\frac{h_y}{2} + m h_y), ~~где ~~ n = 0,1, ...,N,~~ m=0,1,...,M.$$\n",
    "\n",
    "Начальное условие аппроксимируется точно."
   ]
  },
  {
   "cell_type": "markdown",
   "metadata": {},
   "source": [
    "### Граничные условия\n",
    "* По $x~$:\n",
    "$~~\\begin{cases}\n",
    "w_{0,m} = w_{1,m}\\\\\n",
    "w_{N,m} = w_{N-1,m}\n",
    "\\end{cases}$\n",
    "$~~~~~~~~~m=0,1,...,M$\n",
    "\n",
    "\n",
    "* По $y~$:\n",
    "$~~\\begin{cases}\n",
    "w_{n,0} = w_{n,1}\\\\\n",
    "w_{n,M} = w_{n,M-1}\n",
    "\\end{cases}$\n",
    "$~~~~~~~~~n=0,1,...,N$\n",
    "\n",
    "Граничные условия Неймана благодаря выбору сетки имеют вторый порядок аппроксимации, так как соответствующие разностные первые производные оказываются центральными относительно граничных точек."
   ]
  },
  {
   "cell_type": "markdown",
   "metadata": {},
   "source": [
    "## Метод переменных направлений\n",
    "\n",
    "В данном методе переход со слоя $j$ на слой $j+1$ осуществляется в два этапа, с помощью вспомогательного промежуточного слоя $j+1/2$. Схема переменных направлений безусловно устойчива при любых шагах $h_x, h_y, \\tau$. При условии, что для начальных и граничных условий порядки аппроксимации будут не ниже второго, и с учетом вышеописанной аппркосимации дифференциальных операторов, которая имеет второй порядок, метод переменных направлений будет давать второй порядок аппроксимации в данном случае. "
   ]
  },
  {
   "cell_type": "markdown",
   "metadata": {},
   "source": [
    "Рассмотрим подробно переход со слоя $j$ на промежуточный слой $j+1/2$ и дальнейший переход с промежуточного слоя $j+1/2$ на слой $j$. "
   ]
  },
  {
   "cell_type": "markdown",
   "metadata": {},
   "source": [
    "### Переход $~j \\longrightarrow j + 1/2:$\n",
    "\n",
    "Пусть значения на слое $j$ уже известны (на самом первом шаге значения $w~^{0}_{n,m}$ известны из начального условия). Перейдем на вспомогательный промежуточный слой $j + 1/2$, используя **неявную схему по переменной $x$ и явную - по переменной $y$:**\n",
    "\n",
    "* Заменим выражение $\\frac{\\partial^2 }{{\\partial x}^2}$ разностным аналогом, взятым на слое $~j+1/2: ~~\\Lambda _x w~^{j + 1/2}$.\n",
    "\n",
    "* А выражение $\\frac{\\partial^2 }{{\\partial y}^2}$ разностным аналогом, взятым на слое $~j:~~\\Lambda _y w~^j$. \n",
    "\n",
    "При этом неоднороднось $f(x,y,t)$ в правой части уравнения аппроксимируем на промежуточным слое $~j+1/2$. \n",
    "\n",
    "В результате придем к разностному уравнению: \n",
    "\n",
    "$$ \\frac{w~^{j+1/2}-w~^j}{0.5 \\tau} = \\Lambda _x w~^{j+1/2} + \\Lambda _y w~^{j} + f^{j+1/2}$$"
   ]
  },
  {
   "cell_type": "markdown",
   "metadata": {},
   "source": [
    "Перейдем к конкретной задаче и добавим соответствующее граничное условие:\n",
    "\n",
    "$$\\begin{cases}\n",
    "w~^{j+1/2}_{n,m} - w~^j_{n,m} = (~\\frac{\\tau}{2{h_x}^2} ~w~^{j+1/2}_{n+1, ~m}-\\frac{\\tau}{{h_x}^2} ~w~^{j+1/2}_{n, ~m}+\\frac{\\tau}{2{h_x}^2} ~w~^{j+1/2}_{n-1, ~m}~)+(~\\frac{\\tau}{2{h_y}^2} ~w~^{j}_{n, ~m+1}-\\frac{\\tau}{{h_y}^2} ~w~^{j}_{n, ~m}+\\frac{\\tau}{2{h_y}^2} ~w~^{j}_{n, ~m-1}~)+\\frac{\\tau}{2} e^{-\\tau~(j+1/2)} ~\\cos(n h_x) ~\\cos(m h_y), ~~где~~ n = 1,2, ...,N-1,~~ m=1,2,...,M-1,\\\\\n",
    "\\\\w~^{j+1/2}_{0,m} = w~^{j+1/2}_{1,m},~~~~w~^{j+1/2}_{N,m} = w~^{j+1/2}_{N-1,m}, ~~где~~ m=1,2,...,M-1.\\\\\n",
    "\\end{cases}\n",
    "$$"
   ]
  },
  {
   "cell_type": "markdown",
   "metadata": {},
   "source": [
    "При каждом фиксированным $n=0,1,...,N-1$ систему выше можно переписать следующим образом:\n",
    "\n",
    "$$\\begin{cases}\n",
    "\\frac{\\tau}{2{h_x}^2} ~w~^{j+1/2}_{n-1,m} - \\left(1+\\frac{\\tau}{{h_x}^2}\\right) ~w~^{j+1/2}_{n,m} + \\frac{\\tau}{2{h_x}^2} ~w~^{j+1/2}_{n+1, ~m}= -\\left[~w~^{j}_{n, ~m} + \\frac{\\tau}{2{h_y}^2} ~(w~^{j}_{n, ~m+1}-~2w~^{j}_{n, ~m}+~w~^{j}_{n, ~m-1})+\\frac{\\tau}{2} e^{-\\tau~(j+1/2)} ~\\cos(n h_x) ~\\cos(m h_y)~\\right], ~~где~~ m=1,2,...,M-1,\\\\\n",
    "\\\\w~^{j+1/2}_{0,m} = w~^{j+1/2}_{1,m},~~~~w~^{j+1/2}_{N,m} = w~^{j+1/2}_{N-1,m}, ~~где~~ m=1,2,...,M-1.\\\\\n",
    "\\end{cases}$$"
   ]
  },
  {
   "cell_type": "markdown",
   "metadata": {},
   "source": [
    "Для лаконичности переобозначим вышенаписанное локально. Пусть:\n",
    "\n",
    "$\\chi_n = w~^{j+1/2}_{n,m}, ~~~\\chi_{n-1} = w~^{j+1/2}_{n-1,m}, ~~~\\ \\chi_{n+1}=w~^{j+1/2}_{n+1,m},$\n",
    "\n",
    "$A^x=B^x=\\frac{\\tau}{2{h_x}^2}~, ~~~C^x=\\left(1+\\frac{\\tau}{2{h_x}^2}\\right),$\n",
    "\n",
    "$F^x_n=~w~^{j}_{n, ~m} + \\frac{\\tau}{2{h_y}^2} ~\\left(w~^{j}_{n, ~m+1}-~2w~^{j}_{n, ~m}+~w~^{j}_{n, ~m-1}\\right)+\\frac{\\tau}{2} e^{-\\tau~(j+1/2)} ~\\cos(n h_x) ~\\cos(m h_y)~.$\n",
    "\n",
    "Получим простую систему, состоящую из уравнения, в котором неизвестные связаны рекуррентным соотношением, и граничных условий:\n",
    "\n",
    "$$\\begin{cases}\n",
    "A^x \\chi_{n-1} - C^x \\chi_n +B^x \\chi_{n+1} = -F^x_n,\\\\\n",
    "\\chi_0=\\chi_1,~~~~\\chi_N=\\chi_{N-1}.\n",
    "\\end{cases}~~~~n=1,...,N-1$$\n",
    "\n",
    "Данную систему можно решить [методом прогонки](https://ru.wikipedia.org/wiki/%D0%9C%D0%B5%D1%82%D0%BE%D0%B4_%D0%BF%D1%80%D0%BE%D0%B3%D0%BE%D0%BD%D0%BA%D0%B8)."
   ]
  },
  {
   "cell_type": "markdown",
   "metadata": {},
   "source": [
    "Таким образом, для того чтобы найти значение функции $w^{j+1/2}_{(n,~m)}$ на вспомогательном полуцелом слое, необходимо при каждом фиксированном $m = 1, ..., M − 1$ решить свою систему. При этом мы получим значения $w^{j+1/2}_{(n,~m)}$ для всех $n = 0, 1, ..., N$ и $m = 1, 2, ..., M − 1$. Вычислять значения функции $w^{j+1/2}_{(n,~m)}$ при $m = 0$ и $m = M$ нет необходимости, так как они при переходе с вспомогательного слоя $j + 1/2$ на слой $j + 1$ не используются."
   ]
  },
  {
   "cell_type": "markdown",
   "metadata": {},
   "source": [
    "### Переход $~j + 1/2\\longrightarrow j+1:$\n",
    "\n",
    "Переход с промежуточного слоя $~j + 1/2$ на слой $~j + 1$, напротив, осуществим, используя **явную схему по $x$ и неявную - по $y$**, по-прежнему аппроксимируя неоднородность $f(x,y,t)$ на промежуточном слое $~j + 1/2$:\n",
    "\n",
    "$$ \\frac{w~^{j+1}-w~^{j+1/2}}{0.5 \\tau} = \\Lambda _x w~^{j+1/2} + \\Lambda _y w~^{j+1} + f^{j+1/2} $$"
   ]
  },
  {
   "cell_type": "markdown",
   "metadata": {},
   "source": [
    "Перейдем к задаче и добавим соответствующее граничное условие:\n",
    "\n",
    "$$\\begin{cases}\n",
    "w~^{j+1}_{n,m} - w~^{j+1/2}_{n,m} = \\left(~\\frac{\\tau}{2{h_x}^2} ~w~^{j+1/2}_{n+1, ~m}-\\frac{\\tau}{{h_x}^2} ~w~^{j+1/2}_{n, ~m}+\\frac{\\tau}{2{h_x}^2} ~w~^{j+1/2}_{n-1, ~m}~\\right)+\\left(~\\frac{\\tau}{2{h_y}^2} ~w~^{j+1}_{n, ~m+1}-\\frac{\\tau}{{h_y}^2} ~w~^{j+1}_{n, ~m}+\\frac{\\tau}{2{h_y}^2} ~w~^{j+1}_{n, ~m-1}~\\right)+\\frac{\\tau}{2} e^{-\\tau~(j+1/2)} ~cos(n h_x) ~cos(m h_y), ~~где~~ n = 1,2, ...,N-1,~~ m=1,2,...,M-1,\\\\\n",
    "\\\\w~^{j+1}_{n,0} = w~^{j+1}_{n,1},~~~~w~^{j+1}_{n,M} = w~^{j+1}_{n,M-1}~~, ~~где~~ n=1,2,...,N-1.\\\\\n",
    "\\end{cases}\n",
    "$$"
   ]
  },
  {
   "cell_type": "markdown",
   "metadata": {},
   "source": [
    "При каждом фиксированным $n=0,1,...,N-1$ можно переписать:\n",
    "\n",
    "$$\\begin{cases}\n",
    "\\frac{\\tau}{2{h_y}^2} ~w~^{j+1}_{n,m-1} - \\left(1+\\frac{\\tau}{{h_y}^2}\\right) ~w~^{j+1}_{n,m} + \\frac{\\tau}{2{h_y}^2} ~w~^{j+1}_{n, ~m+1}= -\\left[~w~^{j+1/2}_{n, ~m} + \\frac{\\tau}{2{h_x}^2} ~\\left(w~^{j+1/2}_{n+1, ~m}-~2w~^{j+1/2}_{n, ~m}+~w~^{j+1/2}_{n, ~m}\\right)+\\frac{\\tau}{2} e^{-\\tau~(j+1/2)} ~\\cos(n h_x) ~\\cos(m h_y)~\\right], ~~где~~~ m=1,2,...,M-1,\\\\\n",
    "\\\\w~^{j+1}_{0,m} = w~^{j+1}_{1,m},~~~~w~^{j+1}_{N,m} = w~^{j+1}_{N-1,m}~~, ~~где~~ m=1,2,...,M-1.\\\\\n",
    "\\end{cases}$$"
   ]
  },
  {
   "cell_type": "markdown",
   "metadata": {},
   "source": [
    "Переобозначим:\n",
    "\n",
    "$\\gamma_n = w~^{j+1}_{n,m}, ~~~\\gamma_{n-1} = w~^{j+1}_{n-1,m}, ~~~\\gamma_{n+1}=w~^{j+1}_{n+1,m},$\n",
    "\n",
    "$A^y=B^y=\\frac{\\tau}{2{h_y}^2}~, ~~~C^y=\\left(1+\\frac{\\tau}{2{h_y}^2}\\right),$\n",
    "\n",
    "$F^y_m=~w~^{j+1/2}_{n, ~m} + \\frac{\\tau}{2{h_x}^2} ~(w~^{j+1/2}_{n+1, ~m}-~2w~^{j+1/2}_{n, ~m}+~w~^{j+1/2}_{n-1, ~m})+\\frac{\\tau}{2} e^{-\\tau~(j+1/2)} ~cos(n h_x) ~cos(m h_y).$\n",
    "\n",
    "И снова получим простую систему уже для перехода $~j + 1/2\\longrightarrow j+1$, состоящую из уравнения, в котором неизвестные связаны рекуррентным соотношением, и граничных условий:\n",
    "\n",
    "$$\\begin{cases}\n",
    "A^y \\gamma_{n-1} - C^y \\gamma_n +B^y \\gamma_{n+1} = -F^y_m,\\\\\n",
    "\\gamma_0=\\gamma_1,~~~~\\gamma_n=\\gamma_{n-1}.\n",
    "\\end{cases}~~~~m=1,...,M-1$$\n",
    "\n",
    "Данная система аналогично решается методом прогонки."
   ]
  },
  {
   "cell_type": "markdown",
   "metadata": {},
   "source": [
    "## Метод прогонки\n",
    "\n"
   ]
  },
  {
   "cell_type": "markdown",
   "metadata": {},
   "source": [
    "Рассмотрим систему для перехода $~j\\longrightarrow j+1/2$ :\n",
    "\n",
    "$$\\begin{cases}\n",
    "A^x \\chi_{n-1} - C^x \\chi_n +B^x \\chi_{n+1} = -F^x_n,\\\\\n",
    "\\chi_0=\\chi_1,~~~~\\chi_N=\\chi_{N-1}.\n",
    "\\end{cases}~~~~n=1,...,N-1$$\n",
    "\n",
    "Система для перехода $~j + 1/2\\longrightarrow j+1$ будет решаться абсолютно аналогично."
   ]
  },
  {
   "cell_type": "markdown",
   "metadata": {},
   "source": [
    "### Прямой ход прогонки\n",
    "\n",
    "Идея заключается в первоначальном нахождении всех коэффицентов прогонки $\\alpha _n$ и $\\beta _n$ через известные $\\alpha _1$ и $\\beta _1\\$.\n",
    "\n",
    "Рекуррентное соотношение: $~~~\\chi_n = \\alpha _{n+1}\\chi_{n+1}+\\beta _{n+1}$\n",
    "\n",
    "Тогда $~\\chi_{n-1}(\\chi_n)$:\n",
    "$~~~\\chi_{n-1}=\\alpha _n \\chi_n + \\beta _n= \\alpha _n \\alpha _{n+1}\\chi_{n+1} +\\alpha _n \\beta _{n+1} + \\beta _n$\n",
    "\n",
    "В результате после подстановки в первое уравнение системы, получим:\n",
    "\n",
    "$$\n",
    "A^x\\left(\\alpha _n \\alpha _{n+1}\\chi_{n+1} +\\alpha _n \\beta _{n+1} + \\beta _n\\right) - C^x\\left(\\alpha _{n+1} \\chi_{n+1} +\\beta _{n+1}\\right) +B^x\\chi_{n+1} = -F^x_n\n",
    "$$\n",
    "\n",
    "Приравняв коэффициенты при одинаковых степенях $~\\chi_{n+1}$:\n",
    "\n",
    "$$\n",
    "\\chi_{n+1}:~~~~~~~~~~~~~~~A^x\\alpha _n \\alpha _{n+1} - C^x\\alpha _{n+1} + B^x =0\\\\\n",
    "\\chi^0_{n+1}:~~~~~A^x\\alpha _n \\beta _{n+1} +A^x\\beta _n- C^x\\beta _{n+1} + F^x_n =0\n",
    "$$\n",
    "\n",
    "Выразим $\\alpha _{n+1}(\\alpha _n)$ и $~\\beta _{n+1}(~\\beta _n)$:\n",
    "\n",
    "$$\n",
    "\\alpha _{n+1}=\\frac{B^x}{C^x-A^x\\alpha _n},~~\\beta _{n+1} = \\frac{A^x\\beta _n+F^x_n}{C^x-A^x\\alpha _n}, ~n=1,2,3,...,N-1\n",
    "$$\n",
    "\n",
    "Из первых граничных условий:\n",
    "$$\n",
    "\\chi_0=k_1\\chi_1+\\mu _1=\\chi_1 \\Rightarrow \\alpha _1 =k_1=1, \\beta _1=\\mu _1=0\n",
    "$$\n",
    "\n",
    "В итоге получим формулы для прямой прогонки:\n",
    "\n",
    "$$\n",
    "\\left\\{\\begin{array}{l}\n",
    "\\alpha _{n+1}=\\frac{B^x}{C^x-A^x\\alpha _n},~~\\beta _{n+1} = \\frac{A^x\\beta _n+F^x_n}{C^x-A^x\\alpha _n}, ~n=1,2,3,...,N-1\n",
    "\\\\\\alpha_1=1,~~\\beta_1=0\n",
    "\\end{array}\\right.\n",
    "$$"
   ]
  },
  {
   "cell_type": "markdown",
   "metadata": {},
   "source": [
    "### Обратный ход прогонки\n",
    "\n",
    "По известному $\\chi_N$ и найденымм ранее коэффициентам $\\alpha _n$,$~\\beta _n$ вычисляем значения $\\chi_n$.\n",
    "\n",
    "$$\\chi_n = \\alpha _{n+1}\\chi_{n+1}+\\beta _{n+1}$$\n",
    "\n",
    "Из вторых граничных условий:\n",
    "\n",
    "$$\\chi_N=k_2\\chi_{N-1} +\\mu _2 = \\chi_{N-1}\\Rightarrow ~~k_2=1,~~\\mu _2=0$$\n",
    "\n",
    "Откуда получим:\n",
    "\n",
    "$$\\chi_N=\\frac{k_2\\beta _N+\\mu _2}{1-\\alpha _Nk_2}$$\n",
    "\n",
    "Используем, что $k_2=1,\\mu _2=0$, и получим итоговые формулы для обратной прогонки:\n",
    "\n",
    "$$\\left\\{\\begin{array}{l}\n",
    "\\chi_n = \\alpha _{n+1}\\chi_{n+1}+\\beta _{n+1}\\\\\n",
    "\\chi_N=\\frac{\\beta _N}{1-\\alpha _N}\n",
    "\\end{array}\\right.$$"
   ]
  },
  {
   "cell_type": "markdown",
   "metadata": {},
   "source": [
    "### Сложность\n",
    "\n",
    "Как видим, здесь, для прямой прогонки необходимо $0(N)$ действий  для одной системы. Поскольку систем таких $M-1$, суммарная сложность будет $O(NM)$. \n",
    "\n",
    "Аналогично для обратной прогонки: сложность $0(M)$ для одной системы, а систем $N-1$. Таким образом, для обратной прогонки сложность будет $O(MN)$. \n",
    "\n",
    "Суммарная сложность перехода $~j + 1\\longrightarrow j+1/2$ будет $O(NM)$. \n",
    "\n",
    "Такая же сложность будет и для перехода $~j + 1/2\\longrightarrow j+1$. \n",
    "\n",
    "В итоге, для перехода $~j\\longrightarrow j+1$ сложность будет все так же $O(NM)$, а сложность всей задачи $O(NMJ)$. Именно поэтому метод переменных направлений относится к так называемым экономичным схемам.\n",
    "\n",
    "Экономичные схемы сочетают в себе достоинства явных и неявных схем (требуют при переходе со слоя на слой числа арифметических операций, пропорционального числу узлов сетки, и являются безусловно устойчивыми, соответственно). "
   ]
  },
  {
   "cell_type": "markdown",
   "metadata": {},
   "source": [
    "# Код"
   ]
  },
  {
   "cell_type": "markdown",
   "metadata": {},
   "source": [
    "Импортируем необходимые библиотеки:"
   ]
  },
  {
   "cell_type": "code",
   "execution_count": 18,
   "metadata": {},
   "outputs": [],
   "source": [
    "from math import *\n",
    "from mpl_toolkits.mplot3d import Axes3D\n",
    "import matplotlib.pyplot as plt\n",
    "import numpy as np\n",
    "import imageio"
   ]
  },
  {
   "cell_type": "markdown",
   "metadata": {},
   "source": [
    "Обозначим количество узлов сетки:"
   ]
  },
  {
   "cell_type": "code",
   "execution_count": 19,
   "metadata": {},
   "outputs": [],
   "source": [
    "N = 30\n",
    "M = 30\n",
    "J = 500"
   ]
  },
  {
   "cell_type": "markdown",
   "metadata": {},
   "source": [
    "Обозначим границы:"
   ]
  },
  {
   "cell_type": "code",
   "execution_count": 20,
   "metadata": {},
   "outputs": [],
   "source": [
    "x0 = 0.0\n",
    "x1 = pi\n",
    "y0 = 0.0\n",
    "y1 = pi\n",
    "t0 = 0.0\n",
    "t1 = 2.0"
   ]
  },
  {
   "cell_type": "markdown",
   "metadata": {},
   "source": [
    "Вычислим шаг:"
   ]
  },
  {
   "cell_type": "code",
   "execution_count": 21,
   "metadata": {},
   "outputs": [],
   "source": [
    "hx = (x1 - x0) / N\n",
    "hy = (y1 - y0) / M\n",
    "tau = (t1 - t0) / J"
   ]
  },
  {
   "cell_type": "markdown",
   "metadata": {},
   "source": [
    "Определим неоднородность:"
   ]
  },
  {
   "cell_type": "code",
   "execution_count": 22,
   "metadata": {},
   "outputs": [],
   "source": [
    "def f(n, m, j):\n",
    "    return exp(-j*tau)*cos(n*hx)*cos(m*hy)"
   ]
  },
  {
   "cell_type": "markdown",
   "metadata": {},
   "source": [
    "Введем необходимые массивы:"
   ]
  },
  {
   "cell_type": "code",
   "execution_count": 23,
   "metadata": {},
   "outputs": [],
   "source": [
    "alphax = np.zeros((N,M))\n",
    "betax = np.zeros((N,M))\n",
    "pointx = np.zeros((N,M))\n",
    "fx = np.zeros((N,M))\n",
    "alphay = np.zeros((N,M))\n",
    "betay = np.zeros((N,M))\n",
    "pointy = [[cos(n*hx)*cos(m*hy) for n in np.arange(N)] for m in np.arange(M)]\n",
    "fy = np.zeros((N,M))"
   ]
  },
  {
   "cell_type": "markdown",
   "metadata": {},
   "source": [
    "## Находим pointx - значения на промежуточном слое:"
   ]
  },
  {
   "cell_type": "code",
   "execution_count": 35,
   "metadata": {},
   "outputs": [],
   "source": [
    "filenames = []\n",
    "for j in np.arange(J):\n",
    "    ax = tau / (2.0 * hx**2)\n",
    "    bx = tau / (2.0 * hx**2)\n",
    "    cx = 1.0 + tau / hx**2"
   ]
  },
  {
   "cell_type": "markdown",
   "metadata": {},
   "source": [
    "### Прямая прогонка."
   ]
  },
  {
   "cell_type": "markdown",
   "metadata": {},
   "source": [
    "Правый столбец:"
   ]
  },
  {
   "cell_type": "code",
   "execution_count": 36,
   "metadata": {},
   "outputs": [],
   "source": [
    "    for n in np.arange(N):\n",
    "        for m in np.arange(M):\n",
    "            m_m1 = m-1 if m-1 >= 0 else m\n",
    "            m_p1 = m+1 if m+1 < M else m\n",
    "            if m == 0 or m == M - 1:\n",
    "                fx[n][m] = 0.5*tau*f(n,m,j)\n",
    "            else:\n",
    "                fx[n][m] = 0.5 * tau / (hy**2) * (pointy[n][m_m1]+pointy[n][m_p1]) + (1.0 - tau/(hy**2)) * pointy[n][m] + 0.5*tau*f(n,m,j)"
   ]
  },
  {
   "cell_type": "markdown",
   "metadata": {},
   "source": [
    "Левая часть:"
   ]
  },
  {
   "cell_type": "code",
   "execution_count": 37,
   "metadata": {},
   "outputs": [],
   "source": [
    "    for m in np.arange(M):\n",
    "        alphax[0][m] = 1.0\n",
    "        betax[0][m] = 0.0\n",
    "        for n in np.arange(N-1):\n",
    "            alphax[n+1][m]=bx/(cx-alphax[n][m]*ax)\n",
    "            betax[n+1][m]=(ax*betax[n][m]+fx[n][m])/(cx-alphax[n][m]*ax)"
   ]
  },
  {
   "cell_type": "markdown",
   "metadata": {},
   "source": [
    "### Обратная прогонка."
   ]
  },
  {
   "cell_type": "code",
   "execution_count": 38,
   "metadata": {},
   "outputs": [],
   "source": [
    "    for m in np.arange(M):\n",
    "        pointx[N-1][m] = betax[N-1][m]/(1.0-alphax[N-1][m])\n",
    "        for n in np.arange(N)[N-1:0:-1]:\n",
    "            pointx[n-1][m] = alphax[n][m]*pointx[n][m]+betax[n][m]"
   ]
  },
  {
   "cell_type": "markdown",
   "metadata": {},
   "source": [
    "Граничные условия:"
   ]
  },
  {
   "cell_type": "code",
   "execution_count": 39,
   "metadata": {},
   "outputs": [],
   "source": [
    "    for m in np.arange(M):\n",
    "        pointx[0][m] = pointx[1][m]\n",
    "        pointx[N-1][m] = pointx[N-2][m]\n",
    "    for n in np.arange(N):\n",
    "        pointx[n][0] = pointx[n][1]\n",
    "        pointx[n][N-1] = pointx[n][N-2]\n"
   ]
  },
  {
   "cell_type": "markdown",
   "metadata": {},
   "source": [
    "## Находим pointy - значения на целом слое"
   ]
  },
  {
   "cell_type": "code",
   "execution_count": 40,
   "metadata": {},
   "outputs": [],
   "source": [
    "    ay = tau / (2.0 * hy**2)\n",
    "    by = tau / (2.0 * hy**2)\n",
    "    cy = 1.0 + tau / hy**2"
   ]
  },
  {
   "cell_type": "markdown",
   "metadata": {},
   "source": [
    "### Прямая прогонка."
   ]
  },
  {
   "cell_type": "markdown",
   "metadata": {},
   "source": [
    "Правый столбец:\n"
   ]
  },
  {
   "cell_type": "code",
   "execution_count": 41,
   "metadata": {},
   "outputs": [],
   "source": [
    "    for m in np.arange(M):\n",
    "        for n in np.arange(N):\n",
    "            n_m1 = n-1 if n-1 >= 0 else n\n",
    "            n_p1 = n+1 if n+1 < N else n\n",
    "            fy[n][m] = 0.5 * tau / (hx**2) * (pointx[n_m1][m]+pointx[n_p1][m]) + (1.0 - tau/(hx**2)) * pointx[n][m] + 0.5*tau*f(n,m,j)"
   ]
  },
  {
   "cell_type": "markdown",
   "metadata": {},
   "source": [
    "Левая часть:"
   ]
  },
  {
   "cell_type": "code",
   "execution_count": 42,
   "metadata": {},
   "outputs": [],
   "source": [
    "    for n in np.arange(N):\n",
    "        alphay[n][0] = 1.0\n",
    "        betay[n][0] = 0.0\n",
    "        for m in np.arange(M-1):\n",
    "            alphay[n][m+1]=by/(cy-alphay[n][m]*ay)\n",
    "            betay[n][m+1]=(ay*betay[n][m]+fy[n][m])/(cy-alphay[n][m]*ay)"
   ]
  },
  {
   "cell_type": "markdown",
   "metadata": {},
   "source": [
    "### Обратная прогонка"
   ]
  },
  {
   "cell_type": "code",
   "execution_count": 43,
   "metadata": {},
   "outputs": [],
   "source": [
    "    for n in np.arange(N):\n",
    "        pointy[n][M-1] = betay[n][M-1]/(1.0-alphay[n][M-1])\n",
    "        for m in np.arange(M)[M-1:0:-1]:\n",
    "            pointy[n][m-1] = alphay[n][m]*pointy[n][m]+betay[n][m]"
   ]
  },
  {
   "cell_type": "markdown",
   "metadata": {},
   "source": [
    "Граничные условия:"
   ]
  },
  {
   "cell_type": "code",
   "execution_count": 44,
   "metadata": {},
   "outputs": [],
   "source": [
    "    for m in np.arange(M):\n",
    "        pointx[0][m] = pointx[1][m]\n",
    "        pointx[N-1][m] = pointx[N-2][m]\n",
    "    for n in np.arange(N):\n",
    "        pointy[n][0] = pointy[n][1]\n",
    "        pointy[n][N-1] = pointy[n][N-2]"
   ]
  },
  {
   "cell_type": "markdown",
   "metadata": {},
   "source": [
    "## График"
   ]
  },
  {
   "cell_type": "code",
   "execution_count": 48,
   "metadata": {},
   "outputs": [],
   "source": [
    "    if j%20 == 0:\n",
    "        xn = np.arange(x0,x1,hx)\n",
    "        ym = np.arange(y0,y1,hy)\n",
    "        X, Y = np.meshgrid(xn, ym)\n",
    "        fig = plt.figure()\n",
    "        ax = fig.add_subplot(111, projection='3d')\n",
    "        ax.set_zlim3d(-1., 1.)\n",
    "        surf = ax.plot_surface(X, Y, np.atleast_2d(pointy), cmap='YlOrBr')\n",
    "        plt.title('Solution')\n",
    "        plt.xlabel('y')\n",
    "        plt.ylabel('x')\n",
    "        plt.show()\n"
   ]
  },
  {
   "cell_type": "code",
   "execution_count": null,
   "metadata": {},
   "outputs": [],
   "source": []
  }
 ],
 "metadata": {
  "kernelspec": {
   "display_name": "Python 3",
   "language": "python",
   "name": "python3"
  },
  "language_info": {
   "codemirror_mode": {
    "name": "ipython",
    "version": 3
   },
   "file_extension": ".py",
   "mimetype": "text/x-python",
   "name": "python",
   "nbconvert_exporter": "python",
   "pygments_lexer": "ipython3",
   "version": "3.6.6"
  }
 },
 "nbformat": 4,
 "nbformat_minor": 2
}
